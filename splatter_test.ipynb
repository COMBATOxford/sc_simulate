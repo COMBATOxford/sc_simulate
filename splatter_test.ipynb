{
 "cells": [
  {
   "cell_type": "code",
   "execution_count": 2,
   "metadata": {},
   "outputs": [],
   "source": [
    "library(tidyverse)\n",
    "library(splatter)\n",
    "library(scater)"
   ]
  },
  {
   "cell_type": "code",
   "execution_count": 3,
   "metadata": {},
   "outputs": [],
   "source": [
    "set.seed(1)"
   ]
  },
  {
   "cell_type": "code",
   "execution_count": 4,
   "metadata": {},
   "outputs": [
    {
     "name": "stderr",
     "output_type": "stream",
     "text": [
      "NOTE: Library sizes have been found to be normally distributed instead of log-normal. You may want to check this is correct.\n",
      "\n"
     ]
    }
   ],
   "source": [
    "# Estimate parameters from mock data\n",
    "sce <- mockSCE()\n",
    "params <- splatEstimate(sce)"
   ]
  },
  {
   "cell_type": "code",
   "execution_count": 6,
   "metadata": {},
   "outputs": [
    {
     "data": {
      "text/html": [
       "<strong>$nGenes</strong> = 2000"
      ],
      "text/latex": [
       "\\textbf{\\$nGenes} = 2000"
      ],
      "text/markdown": [
       "**$nGenes** = 2000"
      ],
      "text/plain": [
       "$nGenes\n",
       "[1] 2000\n"
      ]
     },
     "metadata": {},
     "output_type": "display_data"
    }
   ],
   "source": [
    "# Set number of genes\n",
    "getParams(params, \"nGenes\") # 2000 genes\n",
    "params <- setParam(params, \"nGenes\", 8000)"
   ]
  },
  {
   "cell_type": "code",
   "execution_count": 11,
   "metadata": {},
   "outputs": [
    {
     "data": {
      "text/html": [
       "<strong>$nCells</strong> = 200"
      ],
      "text/latex": [
       "\\textbf{\\$nCells} = 200"
      ],
      "text/markdown": [
       "**$nCells** = 200"
      ],
      "text/plain": [
       "$nCells\n",
       "[1] 200\n"
      ]
     },
     "metadata": {},
     "output_type": "display_data"
    }
   ],
   "source": [
    "getParams(params, \"nCells\")"
   ]
  },
  {
   "cell_type": "code",
   "execution_count": 7,
   "metadata": {},
   "outputs": [],
   "source": [
    "# Load SCE from 10X PBMC data (1000 cells)\n",
    "sce_pbmc <- readRDS(\"ground_truth_1000_sce.rds\")"
   ]
  },
  {
   "cell_type": "code",
   "execution_count": 13,
   "metadata": {},
   "outputs": [],
   "source": [
    "#sce_pbmc\n",
    "params_pmbc <- splatEstimate(sce_pbmc)"
   ]
  },
  {
   "cell_type": "code",
   "execution_count": 16,
   "metadata": {},
   "outputs": [],
   "source": [
    "params_pmbc2 <- setParam(params_pmbc, \"nGenes\", 10000)\n"
   ]
  },
  {
   "cell_type": "code",
   "execution_count": 21,
   "metadata": {},
   "outputs": [],
   "source": [
    "# Set number of cells to 8000\n",
    "params_pmbc2 <- setParam(params_pmbc, \"batchCells\", 8000)\n"
   ]
  },
  {
   "cell_type": "markdown",
   "metadata": {},
   "source": [
    "# Ways to do this\n",
    "Could do one big experiment and separate\n",
    "\n",
    "14 patients (groups?). 70 folders (batches?). 300,000 cells, ?number genes?, \n",
    "or just 8000 cells, 70 channels, i.e. for loop 70 "
   ]
  },
  {
   "cell_type": "code",
   "execution_count": 23,
   "metadata": {},
   "outputs": [
    {
     "name": "stderr",
     "output_type": "stream",
     "text": [
      "Getting parameters...\n",
      "\n",
      "Creating simulation object...\n",
      "\n",
      "Simulating library sizes...\n",
      "\n",
      "Simulating gene means...\n",
      "\n",
      "Simulating BCV...\n",
      "\n",
      "Simulating counts...\n",
      "\n",
      "Simulating dropout (if needed)...\n",
      "\n",
      "Done!\n",
      "\n"
     ]
    }
   ],
   "source": [
    "sim <- splatSimulate(params_pmbc2, nGenes = 20000)"
   ]
  },
  {
   "cell_type": "code",
   "execution_count": 32,
   "metadata": {},
   "outputs": [
    {
     "data": {
      "text/html": [
       "<style>\n",
       ".list-inline {list-style: none; margin:0; padding: 0}\n",
       ".list-inline>li {display: inline-block}\n",
       ".list-inline>li:not(:last-child)::after {content: \"\\00b7\"; padding: 0 .5ex}\n",
       "</style>\n",
       "<ol class=list-inline><li>'ENSG00000004059'</li><li>'ENSG00000003056'</li><li>'ENSG00000173153'</li><li>'ENSG00000004478'</li><li>'ENSG00000003137'</li><li>'ENSG00000003509'</li></ol>\n"
      ],
      "text/latex": [
       "\\begin{enumerate*}\n",
       "\\item 'ENSG00000004059'\n",
       "\\item 'ENSG00000003056'\n",
       "\\item 'ENSG00000173153'\n",
       "\\item 'ENSG00000004478'\n",
       "\\item 'ENSG00000003137'\n",
       "\\item 'ENSG00000003509'\n",
       "\\end{enumerate*}\n"
      ],
      "text/markdown": [
       "1. 'ENSG00000004059'\n",
       "2. 'ENSG00000003056'\n",
       "3. 'ENSG00000173153'\n",
       "4. 'ENSG00000004478'\n",
       "5. 'ENSG00000003137'\n",
       "6. 'ENSG00000003509'\n",
       "\n",
       "\n"
      ],
      "text/plain": [
       "[1] \"ENSG00000004059\" \"ENSG00000003056\" \"ENSG00000173153\" \"ENSG00000004478\"\n",
       "[5] \"ENSG00000003137\" \"ENSG00000003509\""
      ]
     },
     "metadata": {},
     "output_type": "display_data"
    }
   ],
   "source": [
    "rownames(sce_pbmc)[]"
   ]
  },
  {
   "cell_type": "code",
   "execution_count": 41,
   "metadata": {},
   "outputs": [
    {
     "data": {
      "text/html": [
       "<table>\n",
       "<caption>A matrix: 20 × 20 of type int</caption>\n",
       "<thead>\n",
       "\t<tr><th></th><th scope=col>Cell1</th><th scope=col>Cell2</th><th scope=col>Cell3</th><th scope=col>Cell4</th><th scope=col>Cell5</th><th scope=col>Cell6</th><th scope=col>Cell7</th><th scope=col>Cell8</th><th scope=col>Cell9</th><th scope=col>Cell10</th><th scope=col>Cell11</th><th scope=col>Cell12</th><th scope=col>Cell13</th><th scope=col>Cell14</th><th scope=col>Cell15</th><th scope=col>Cell16</th><th scope=col>Cell17</th><th scope=col>Cell18</th><th scope=col>Cell19</th><th scope=col>Cell20</th></tr>\n",
       "</thead>\n",
       "<tbody>\n",
       "\t<tr><th scope=row>Gene1</th><td>0</td><td>0</td><td>0</td><td>0</td><td>0</td><td>0</td><td>0</td><td>0</td><td>0</td><td>0</td><td>0</td><td>0</td><td>0</td><td>0</td><td>0</td><td>0</td><td>0</td><td>0</td><td>0</td><td>0</td></tr>\n",
       "\t<tr><th scope=row>Gene2</th><td>0</td><td>0</td><td>0</td><td>0</td><td>0</td><td>0</td><td>0</td><td>0</td><td>0</td><td>0</td><td>0</td><td>0</td><td>0</td><td>0</td><td>0</td><td>0</td><td>0</td><td>0</td><td>0</td><td>0</td></tr>\n",
       "\t<tr><th scope=row>Gene3</th><td>0</td><td>0</td><td>1</td><td>0</td><td>0</td><td>0</td><td>0</td><td>0</td><td>0</td><td>1</td><td>0</td><td>0</td><td>0</td><td>0</td><td>3</td><td>0</td><td>0</td><td>0</td><td>0</td><td>0</td></tr>\n",
       "\t<tr><th scope=row>Gene4</th><td>0</td><td>0</td><td>0</td><td>0</td><td>0</td><td>0</td><td>0</td><td>0</td><td>0</td><td>0</td><td>0</td><td>0</td><td>0</td><td>0</td><td>0</td><td>0</td><td>0</td><td>0</td><td>0</td><td>0</td></tr>\n",
       "\t<tr><th scope=row>Gene5</th><td>0</td><td>0</td><td>0</td><td>0</td><td>0</td><td>0</td><td>0</td><td>0</td><td>0</td><td>0</td><td>0</td><td>0</td><td>0</td><td>0</td><td>0</td><td>0</td><td>0</td><td>0</td><td>0</td><td>0</td></tr>\n",
       "\t<tr><th scope=row>Gene6</th><td>0</td><td>0</td><td>0</td><td>0</td><td>0</td><td>0</td><td>0</td><td>0</td><td>0</td><td>0</td><td>0</td><td>0</td><td>0</td><td>0</td><td>0</td><td>0</td><td>0</td><td>0</td><td>0</td><td>0</td></tr>\n",
       "\t<tr><th scope=row>Gene7</th><td>0</td><td>1</td><td>0</td><td>0</td><td>0</td><td>0</td><td>0</td><td>0</td><td>0</td><td>0</td><td>1</td><td>0</td><td>0</td><td>0</td><td>0</td><td>2</td><td>0</td><td>0</td><td>0</td><td>0</td></tr>\n",
       "\t<tr><th scope=row>Gene8</th><td>0</td><td>0</td><td>0</td><td>0</td><td>0</td><td>0</td><td>0</td><td>0</td><td>0</td><td>0</td><td>0</td><td>0</td><td>0</td><td>0</td><td>0</td><td>0</td><td>0</td><td>0</td><td>0</td><td>0</td></tr>\n",
       "\t<tr><th scope=row>Gene9</th><td>0</td><td>0</td><td>0</td><td>0</td><td>0</td><td>0</td><td>0</td><td>0</td><td>0</td><td>0</td><td>0</td><td>0</td><td>0</td><td>0</td><td>0</td><td>0</td><td>0</td><td>0</td><td>0</td><td>0</td></tr>\n",
       "\t<tr><th scope=row>Gene10</th><td>0</td><td>0</td><td>0</td><td>0</td><td>0</td><td>0</td><td>1</td><td>0</td><td>0</td><td>0</td><td>0</td><td>0</td><td>0</td><td>0</td><td>0</td><td>0</td><td>0</td><td>0</td><td>0</td><td>0</td></tr>\n",
       "\t<tr><th scope=row>Gene11</th><td>0</td><td>0</td><td>0</td><td>0</td><td>0</td><td>0</td><td>0</td><td>0</td><td>0</td><td>0</td><td>0</td><td>0</td><td>0</td><td>0</td><td>0</td><td>0</td><td>0</td><td>0</td><td>0</td><td>0</td></tr>\n",
       "\t<tr><th scope=row>Gene12</th><td>0</td><td>0</td><td>0</td><td>0</td><td>0</td><td>0</td><td>0</td><td>0</td><td>0</td><td>0</td><td>0</td><td>0</td><td>0</td><td>0</td><td>0</td><td>0</td><td>0</td><td>0</td><td>0</td><td>0</td></tr>\n",
       "\t<tr><th scope=row>Gene13</th><td>0</td><td>0</td><td>0</td><td>1</td><td>0</td><td>0</td><td>0</td><td>0</td><td>0</td><td>0</td><td>1</td><td>0</td><td>0</td><td>0</td><td>0</td><td>0</td><td>0</td><td>0</td><td>0</td><td>0</td></tr>\n",
       "\t<tr><th scope=row>Gene14</th><td>0</td><td>0</td><td>0</td><td>0</td><td>2</td><td>0</td><td>0</td><td>3</td><td>0</td><td>0</td><td>0</td><td>0</td><td>0</td><td>0</td><td>0</td><td>0</td><td>0</td><td>0</td><td>0</td><td>0</td></tr>\n",
       "\t<tr><th scope=row>Gene15</th><td>0</td><td>0</td><td>0</td><td>0</td><td>0</td><td>0</td><td>0</td><td>0</td><td>0</td><td>2</td><td>0</td><td>0</td><td>0</td><td>0</td><td>0</td><td>0</td><td>0</td><td>0</td><td>0</td><td>0</td></tr>\n",
       "\t<tr><th scope=row>Gene16</th><td>0</td><td>0</td><td>0</td><td>0</td><td>0</td><td>0</td><td>0</td><td>1</td><td>0</td><td>2</td><td>0</td><td>0</td><td>0</td><td>0</td><td>0</td><td>2</td><td>0</td><td>0</td><td>0</td><td>0</td></tr>\n",
       "\t<tr><th scope=row>Gene17</th><td>1</td><td>0</td><td>0</td><td>0</td><td>2</td><td>0</td><td>0</td><td>0</td><td>0</td><td>0</td><td>0</td><td>0</td><td>0</td><td>1</td><td>0</td><td>0</td><td>0</td><td>0</td><td>2</td><td>0</td></tr>\n",
       "\t<tr><th scope=row>Gene18</th><td>0</td><td>0</td><td>0</td><td>0</td><td>0</td><td>0</td><td>0</td><td>0</td><td>1</td><td>0</td><td>0</td><td>0</td><td>0</td><td>0</td><td>1</td><td>0</td><td>0</td><td>0</td><td>0</td><td>0</td></tr>\n",
       "\t<tr><th scope=row>Gene19</th><td>0</td><td>0</td><td>0</td><td>0</td><td>0</td><td>0</td><td>0</td><td>0</td><td>0</td><td>0</td><td>0</td><td>0</td><td>0</td><td>0</td><td>0</td><td>0</td><td>0</td><td>0</td><td>0</td><td>0</td></tr>\n",
       "\t<tr><th scope=row>Gene20</th><td>0</td><td>0</td><td>0</td><td>0</td><td>0</td><td>1</td><td>0</td><td>0</td><td>1</td><td>1</td><td>0</td><td>0</td><td>0</td><td>0</td><td>0</td><td>0</td><td>0</td><td>0</td><td>2</td><td>0</td></tr>\n",
       "</tbody>\n",
       "</table>\n"
      ],
      "text/latex": [
       "A matrix: 20 × 20 of type int\n",
       "\\begin{tabular}{r|llllllllllllllllllll}\n",
       "  & Cell1 & Cell2 & Cell3 & Cell4 & Cell5 & Cell6 & Cell7 & Cell8 & Cell9 & Cell10 & Cell11 & Cell12 & Cell13 & Cell14 & Cell15 & Cell16 & Cell17 & Cell18 & Cell19 & Cell20\\\\\n",
       "\\hline\n",
       "\tGene1 & 0 & 0 & 0 & 0 & 0 & 0 & 0 & 0 & 0 & 0 & 0 & 0 & 0 & 0 & 0 & 0 & 0 & 0 & 0 & 0\\\\\n",
       "\tGene2 & 0 & 0 & 0 & 0 & 0 & 0 & 0 & 0 & 0 & 0 & 0 & 0 & 0 & 0 & 0 & 0 & 0 & 0 & 0 & 0\\\\\n",
       "\tGene3 & 0 & 0 & 1 & 0 & 0 & 0 & 0 & 0 & 0 & 1 & 0 & 0 & 0 & 0 & 3 & 0 & 0 & 0 & 0 & 0\\\\\n",
       "\tGene4 & 0 & 0 & 0 & 0 & 0 & 0 & 0 & 0 & 0 & 0 & 0 & 0 & 0 & 0 & 0 & 0 & 0 & 0 & 0 & 0\\\\\n",
       "\tGene5 & 0 & 0 & 0 & 0 & 0 & 0 & 0 & 0 & 0 & 0 & 0 & 0 & 0 & 0 & 0 & 0 & 0 & 0 & 0 & 0\\\\\n",
       "\tGene6 & 0 & 0 & 0 & 0 & 0 & 0 & 0 & 0 & 0 & 0 & 0 & 0 & 0 & 0 & 0 & 0 & 0 & 0 & 0 & 0\\\\\n",
       "\tGene7 & 0 & 1 & 0 & 0 & 0 & 0 & 0 & 0 & 0 & 0 & 1 & 0 & 0 & 0 & 0 & 2 & 0 & 0 & 0 & 0\\\\\n",
       "\tGene8 & 0 & 0 & 0 & 0 & 0 & 0 & 0 & 0 & 0 & 0 & 0 & 0 & 0 & 0 & 0 & 0 & 0 & 0 & 0 & 0\\\\\n",
       "\tGene9 & 0 & 0 & 0 & 0 & 0 & 0 & 0 & 0 & 0 & 0 & 0 & 0 & 0 & 0 & 0 & 0 & 0 & 0 & 0 & 0\\\\\n",
       "\tGene10 & 0 & 0 & 0 & 0 & 0 & 0 & 1 & 0 & 0 & 0 & 0 & 0 & 0 & 0 & 0 & 0 & 0 & 0 & 0 & 0\\\\\n",
       "\tGene11 & 0 & 0 & 0 & 0 & 0 & 0 & 0 & 0 & 0 & 0 & 0 & 0 & 0 & 0 & 0 & 0 & 0 & 0 & 0 & 0\\\\\n",
       "\tGene12 & 0 & 0 & 0 & 0 & 0 & 0 & 0 & 0 & 0 & 0 & 0 & 0 & 0 & 0 & 0 & 0 & 0 & 0 & 0 & 0\\\\\n",
       "\tGene13 & 0 & 0 & 0 & 1 & 0 & 0 & 0 & 0 & 0 & 0 & 1 & 0 & 0 & 0 & 0 & 0 & 0 & 0 & 0 & 0\\\\\n",
       "\tGene14 & 0 & 0 & 0 & 0 & 2 & 0 & 0 & 3 & 0 & 0 & 0 & 0 & 0 & 0 & 0 & 0 & 0 & 0 & 0 & 0\\\\\n",
       "\tGene15 & 0 & 0 & 0 & 0 & 0 & 0 & 0 & 0 & 0 & 2 & 0 & 0 & 0 & 0 & 0 & 0 & 0 & 0 & 0 & 0\\\\\n",
       "\tGene16 & 0 & 0 & 0 & 0 & 0 & 0 & 0 & 1 & 0 & 2 & 0 & 0 & 0 & 0 & 0 & 2 & 0 & 0 & 0 & 0\\\\\n",
       "\tGene17 & 1 & 0 & 0 & 0 & 2 & 0 & 0 & 0 & 0 & 0 & 0 & 0 & 0 & 1 & 0 & 0 & 0 & 0 & 2 & 0\\\\\n",
       "\tGene18 & 0 & 0 & 0 & 0 & 0 & 0 & 0 & 0 & 1 & 0 & 0 & 0 & 0 & 0 & 1 & 0 & 0 & 0 & 0 & 0\\\\\n",
       "\tGene19 & 0 & 0 & 0 & 0 & 0 & 0 & 0 & 0 & 0 & 0 & 0 & 0 & 0 & 0 & 0 & 0 & 0 & 0 & 0 & 0\\\\\n",
       "\tGene20 & 0 & 0 & 0 & 0 & 0 & 1 & 0 & 0 & 1 & 1 & 0 & 0 & 0 & 0 & 0 & 0 & 0 & 0 & 2 & 0\\\\\n",
       "\\end{tabular}\n"
      ],
      "text/markdown": [
       "\n",
       "A matrix: 20 × 20 of type int\n",
       "\n",
       "| <!--/--> | Cell1 | Cell2 | Cell3 | Cell4 | Cell5 | Cell6 | Cell7 | Cell8 | Cell9 | Cell10 | Cell11 | Cell12 | Cell13 | Cell14 | Cell15 | Cell16 | Cell17 | Cell18 | Cell19 | Cell20 |\n",
       "|---|---|---|---|---|---|---|---|---|---|---|---|---|---|---|---|---|---|---|---|---|\n",
       "| Gene1 | 0 | 0 | 0 | 0 | 0 | 0 | 0 | 0 | 0 | 0 | 0 | 0 | 0 | 0 | 0 | 0 | 0 | 0 | 0 | 0 |\n",
       "| Gene2 | 0 | 0 | 0 | 0 | 0 | 0 | 0 | 0 | 0 | 0 | 0 | 0 | 0 | 0 | 0 | 0 | 0 | 0 | 0 | 0 |\n",
       "| Gene3 | 0 | 0 | 1 | 0 | 0 | 0 | 0 | 0 | 0 | 1 | 0 | 0 | 0 | 0 | 3 | 0 | 0 | 0 | 0 | 0 |\n",
       "| Gene4 | 0 | 0 | 0 | 0 | 0 | 0 | 0 | 0 | 0 | 0 | 0 | 0 | 0 | 0 | 0 | 0 | 0 | 0 | 0 | 0 |\n",
       "| Gene5 | 0 | 0 | 0 | 0 | 0 | 0 | 0 | 0 | 0 | 0 | 0 | 0 | 0 | 0 | 0 | 0 | 0 | 0 | 0 | 0 |\n",
       "| Gene6 | 0 | 0 | 0 | 0 | 0 | 0 | 0 | 0 | 0 | 0 | 0 | 0 | 0 | 0 | 0 | 0 | 0 | 0 | 0 | 0 |\n",
       "| Gene7 | 0 | 1 | 0 | 0 | 0 | 0 | 0 | 0 | 0 | 0 | 1 | 0 | 0 | 0 | 0 | 2 | 0 | 0 | 0 | 0 |\n",
       "| Gene8 | 0 | 0 | 0 | 0 | 0 | 0 | 0 | 0 | 0 | 0 | 0 | 0 | 0 | 0 | 0 | 0 | 0 | 0 | 0 | 0 |\n",
       "| Gene9 | 0 | 0 | 0 | 0 | 0 | 0 | 0 | 0 | 0 | 0 | 0 | 0 | 0 | 0 | 0 | 0 | 0 | 0 | 0 | 0 |\n",
       "| Gene10 | 0 | 0 | 0 | 0 | 0 | 0 | 1 | 0 | 0 | 0 | 0 | 0 | 0 | 0 | 0 | 0 | 0 | 0 | 0 | 0 |\n",
       "| Gene11 | 0 | 0 | 0 | 0 | 0 | 0 | 0 | 0 | 0 | 0 | 0 | 0 | 0 | 0 | 0 | 0 | 0 | 0 | 0 | 0 |\n",
       "| Gene12 | 0 | 0 | 0 | 0 | 0 | 0 | 0 | 0 | 0 | 0 | 0 | 0 | 0 | 0 | 0 | 0 | 0 | 0 | 0 | 0 |\n",
       "| Gene13 | 0 | 0 | 0 | 1 | 0 | 0 | 0 | 0 | 0 | 0 | 1 | 0 | 0 | 0 | 0 | 0 | 0 | 0 | 0 | 0 |\n",
       "| Gene14 | 0 | 0 | 0 | 0 | 2 | 0 | 0 | 3 | 0 | 0 | 0 | 0 | 0 | 0 | 0 | 0 | 0 | 0 | 0 | 0 |\n",
       "| Gene15 | 0 | 0 | 0 | 0 | 0 | 0 | 0 | 0 | 0 | 2 | 0 | 0 | 0 | 0 | 0 | 0 | 0 | 0 | 0 | 0 |\n",
       "| Gene16 | 0 | 0 | 0 | 0 | 0 | 0 | 0 | 1 | 0 | 2 | 0 | 0 | 0 | 0 | 0 | 2 | 0 | 0 | 0 | 0 |\n",
       "| Gene17 | 1 | 0 | 0 | 0 | 2 | 0 | 0 | 0 | 0 | 0 | 0 | 0 | 0 | 1 | 0 | 0 | 0 | 0 | 2 | 0 |\n",
       "| Gene18 | 0 | 0 | 0 | 0 | 0 | 0 | 0 | 0 | 1 | 0 | 0 | 0 | 0 | 0 | 1 | 0 | 0 | 0 | 0 | 0 |\n",
       "| Gene19 | 0 | 0 | 0 | 0 | 0 | 0 | 0 | 0 | 0 | 0 | 0 | 0 | 0 | 0 | 0 | 0 | 0 | 0 | 0 | 0 |\n",
       "| Gene20 | 0 | 0 | 0 | 0 | 0 | 1 | 0 | 0 | 1 | 1 | 0 | 0 | 0 | 0 | 0 | 0 | 0 | 0 | 2 | 0 |\n",
       "\n"
      ],
      "text/plain": [
       "       Cell1 Cell2 Cell3 Cell4 Cell5 Cell6 Cell7 Cell8 Cell9 Cell10 Cell11\n",
       "Gene1  0     0     0     0     0     0     0     0     0     0      0     \n",
       "Gene2  0     0     0     0     0     0     0     0     0     0      0     \n",
       "Gene3  0     0     1     0     0     0     0     0     0     1      0     \n",
       "Gene4  0     0     0     0     0     0     0     0     0     0      0     \n",
       "Gene5  0     0     0     0     0     0     0     0     0     0      0     \n",
       "Gene6  0     0     0     0     0     0     0     0     0     0      0     \n",
       "Gene7  0     1     0     0     0     0     0     0     0     0      1     \n",
       "Gene8  0     0     0     0     0     0     0     0     0     0      0     \n",
       "Gene9  0     0     0     0     0     0     0     0     0     0      0     \n",
       "Gene10 0     0     0     0     0     0     1     0     0     0      0     \n",
       "Gene11 0     0     0     0     0     0     0     0     0     0      0     \n",
       "Gene12 0     0     0     0     0     0     0     0     0     0      0     \n",
       "Gene13 0     0     0     1     0     0     0     0     0     0      1     \n",
       "Gene14 0     0     0     0     2     0     0     3     0     0      0     \n",
       "Gene15 0     0     0     0     0     0     0     0     0     2      0     \n",
       "Gene16 0     0     0     0     0     0     0     1     0     2      0     \n",
       "Gene17 1     0     0     0     2     0     0     0     0     0      0     \n",
       "Gene18 0     0     0     0     0     0     0     0     1     0      0     \n",
       "Gene19 0     0     0     0     0     0     0     0     0     0      0     \n",
       "Gene20 0     0     0     0     0     1     0     0     1     1      0     \n",
       "       Cell12 Cell13 Cell14 Cell15 Cell16 Cell17 Cell18 Cell19 Cell20\n",
       "Gene1  0      0      0      0      0      0      0      0      0     \n",
       "Gene2  0      0      0      0      0      0      0      0      0     \n",
       "Gene3  0      0      0      3      0      0      0      0      0     \n",
       "Gene4  0      0      0      0      0      0      0      0      0     \n",
       "Gene5  0      0      0      0      0      0      0      0      0     \n",
       "Gene6  0      0      0      0      0      0      0      0      0     \n",
       "Gene7  0      0      0      0      2      0      0      0      0     \n",
       "Gene8  0      0      0      0      0      0      0      0      0     \n",
       "Gene9  0      0      0      0      0      0      0      0      0     \n",
       "Gene10 0      0      0      0      0      0      0      0      0     \n",
       "Gene11 0      0      0      0      0      0      0      0      0     \n",
       "Gene12 0      0      0      0      0      0      0      0      0     \n",
       "Gene13 0      0      0      0      0      0      0      0      0     \n",
       "Gene14 0      0      0      0      0      0      0      0      0     \n",
       "Gene15 0      0      0      0      0      0      0      0      0     \n",
       "Gene16 0      0      0      0      2      0      0      0      0     \n",
       "Gene17 0      0      1      0      0      0      0      2      0     \n",
       "Gene18 0      0      0      1      0      0      0      0      0     \n",
       "Gene19 0      0      0      0      0      0      0      0      0     \n",
       "Gene20 0      0      0      0      0      0      0      2      0     "
      ]
     },
     "metadata": {},
     "output_type": "display_data"
    },
    {
     "ename": "ERROR",
     "evalue": "Error in rowsum.default(.): argument \"group\" is missing, with no default\n",
     "output_type": "error",
     "traceback": [
      "Error in rowsum.default(.): argument \"group\" is missing, with no default\nTraceback:\n",
      "1. counts(sim) %>% rowsum",
      "2. withVisible(eval(quote(`_fseq`(`_lhs`)), env, env))",
      "3. eval(quote(`_fseq`(`_lhs`)), env, env)",
      "4. eval(quote(`_fseq`(`_lhs`)), env, env)",
      "5. `_fseq`(`_lhs`)",
      "6. freduce(value, `_function_list`)",
      "7. withVisible(function_list[[k]](value))",
      "8. function_list[[k]](value)",
      "9. rowsum(.)",
      "10. rowsum(.)",
      "11. rowsum.default(.)"
     ]
    }
   ],
   "source": [
    "counts(sim)[1:20,1:20]\n",
    "counts(sim) %>% rowsum"
   ]
  },
  {
   "cell_type": "code",
   "execution_count": 37,
   "metadata": {},
   "outputs": [],
   "source": [
    "\n",
    "write.table(rownames(sim), file= \"out_dir/quants_mat_rows.txt\", quote=FALSE, col.names=FALSE, row.names=FALSE)\n",
    "write.table(colnames(sim), file= \"out_dir/quants_mat_cols.txt\", quote=FALSE, col.names=FALSE, row.names=FALSE)\n",
    "write.table(counts(sim), file= \"out_dir/quants_mat.csv\", quote=FALSE, col.names=FALSE, row.names=FALSE, sep=\",\")  "
   ]
  },
  {
   "cell_type": "code",
   "execution_count": 44,
   "metadata": {},
   "outputs": [
    {
     "data": {
      "text/html": [
       "'out_dir/channel_2/quants_mat_rows.txt'"
      ],
      "text/latex": [
       "'out\\_dir/channel\\_2/quants\\_mat\\_rows.txt'"
      ],
      "text/markdown": [
       "'out_dir/channel_2/quants_mat_rows.txt'"
      ],
      "text/plain": [
       "[1] \"out_dir/channel_2/quants_mat_rows.txt\""
      ]
     },
     "metadata": {},
     "output_type": "display_data"
    }
   ],
   "source": [
    "i =2\n",
    "paste0(c(\"out_dir/\", \"channel_\", i, \"/quants_mat_rows.txt\"), collapse =\"\" )"
   ]
  },
  {
   "cell_type": "code",
   "execution_count": 38,
   "metadata": {},
   "outputs": [
    {
     "name": "stderr",
     "output_type": "stream",
     "text": [
      "Getting parameters...\n",
      "\n",
      "Creating simulation object...\n",
      "\n",
      "Simulating library sizes...\n",
      "\n",
      "Simulating gene means...\n",
      "\n",
      "Simulating BCV...\n",
      "\n",
      "Simulating counts...\n",
      "\n",
      "Simulating dropout (if needed)...\n",
      "\n",
      "Done!\n",
      "\n"
     ]
    }
   ],
   "source": [
    "sim2 <- splatSimulate(params_pmbc2, nGenes = 20000)"
   ]
  },
  {
   "cell_type": "code",
   "execution_count": 47,
   "metadata": {},
   "outputs": [
    {
     "data": {
      "text/html": [
       "642223"
      ],
      "text/latex": [
       "642223"
      ],
      "text/markdown": [
       "642223"
      ],
      "text/plain": [
       "[1] 642223"
      ]
     },
     "metadata": {},
     "output_type": "display_data"
    },
    {
     "name": "stderr",
     "output_type": "stream",
     "text": [
      "Warning message in dir.create(path = \"out_dir/hey1\"):\n",
      "“cannot create dir 'out_dir/hey1', reason 'No such file or directory'”\n"
     ]
    }
   ],
   "source": [
    "params_pmbc2@seed\n",
    "dir.create(path = \"out_dir/hey1\")"
   ]
  },
  {
   "cell_type": "code",
   "execution_count": 50,
   "metadata": {},
   "outputs": [
    {
     "name": "stderr",
     "output_type": "stream",
     "text": [
      "Parsed with column specification:\n",
      "cols(\n",
      "  X1 = \u001b[31mcol_character()\u001b[39m\n",
      ")\n",
      "\n"
     ]
    }
   ],
   "source": [
    "barcodes <- read_delim(\"/ifs/research-groups/botnar/proj018/big_parellel_experiments/single_cell/simulated/data/737K-august-2016.txt\", delim =\"\\t\", col_names = FALSE  )"
   ]
  },
  {
   "cell_type": "code",
   "execution_count": 56,
   "metadata": {},
   "outputs": [
    {
     "data": {
      "text/html": [
       "737280"
      ],
      "text/latex": [
       "737280"
      ],
      "text/markdown": [
       "737280"
      ],
      "text/plain": [
       "[1] 737280"
      ]
     },
     "metadata": {},
     "output_type": "display_data"
    },
    {
     "data": {
      "text/html": [
       "737280"
      ],
      "text/latex": [
       "737280"
      ],
      "text/markdown": [
       "737280"
      ],
      "text/plain": [
       "[1] 737280"
      ]
     },
     "metadata": {},
     "output_type": "display_data"
    },
    {
     "data": {
      "text/html": [
       "<style>\n",
       ".list-inline {list-style: none; margin:0; padding: 0}\n",
       ".list-inline>li {display: inline-block}\n",
       ".list-inline>li:not(:last-child)::after {content: \"\\00b7\"; padding: 0 .5ex}\n",
       "</style>\n",
       "<ol class=list-inline><li>'AAACCTGAGAAACCAT'</li><li>'AAACCTGAGAAACCGC'</li><li>'AAACCTGAGAAACCTA'</li><li>'AAACCTGAGAAACGAG'</li><li>'AAACCTGAGAAACGCC'</li><li>'AAACCTGAGAAAGTGG'</li></ol>\n"
      ],
      "text/latex": [
       "\\begin{enumerate*}\n",
       "\\item 'AAACCTGAGAAACCAT'\n",
       "\\item 'AAACCTGAGAAACCGC'\n",
       "\\item 'AAACCTGAGAAACCTA'\n",
       "\\item 'AAACCTGAGAAACGAG'\n",
       "\\item 'AAACCTGAGAAACGCC'\n",
       "\\item 'AAACCTGAGAAAGTGG'\n",
       "\\end{enumerate*}\n"
      ],
      "text/markdown": [
       "1. 'AAACCTGAGAAACCAT'\n",
       "2. 'AAACCTGAGAAACCGC'\n",
       "3. 'AAACCTGAGAAACCTA'\n",
       "4. 'AAACCTGAGAAACGAG'\n",
       "5. 'AAACCTGAGAAACGCC'\n",
       "6. 'AAACCTGAGAAAGTGG'\n",
       "\n",
       "\n"
      ],
      "text/plain": [
       "[1] \"AAACCTGAGAAACCAT\" \"AAACCTGAGAAACCGC\" \"AAACCTGAGAAACCTA\" \"AAACCTGAGAAACGAG\"\n",
       "[5] \"AAACCTGAGAAACGCC\" \"AAACCTGAGAAAGTGG\""
      ]
     },
     "metadata": {},
     "output_type": "display_data"
    }
   ],
   "source": [
    "barcodes$X1 %>% length\n",
    "barcodes$X1 %>% unique %>% length\n",
    "barcodes$X1 %>% head"
   ]
  },
  {
   "cell_type": "code",
   "execution_count": 60,
   "metadata": {},
   "outputs": [],
   "source": [
    "ran <- readRDS(\"/ifs/research-groups/botnar/proj018/big_parellel_experiments/single_cell/simulated/test_old_bioconda/output_1000.dir/SCE.dir/PBMC_1000_cells/bus/inflection_sce.rds\")"
   ]
  },
  {
   "cell_type": "code",
   "execution_count": 61,
   "metadata": {},
   "outputs": [
    {
     "data": {
      "text/plain": [
       "class: SingleCellExperiment \n",
       "dim: 36292 1000 \n",
       "metadata(0):\n",
       "assays(2): counts logcounts\n",
       "rownames(36292): ENSG00000275634 ENSG00000167861 ... ENSG00000251359\n",
       "  ENSG00000267079\n",
       "rowData names(0):\n",
       "colnames(1000): TTTGTCATCCGCGGTA TTTGGTTAGCCCAGCT ... TGGCCAGGTATTAGCC\n",
       "  GACGCGTGTGAGGGAG\n",
       "colData names(0):\n",
       "reducedDimNames(0):\n",
       "altExpNames(0):"
      ]
     },
     "metadata": {},
     "output_type": "display_data"
    }
   ],
   "source": [
    "ran"
   ]
  },
  {
   "cell_type": "code",
   "execution_count": 62,
   "metadata": {},
   "outputs": [],
   "source": [
    "#params_pmbc2\n",
    "#sim2\n",
    "splatSimBatchCellMeans <- function(sim, params) {\n",
    "\n",
    "    nBatches <- getParam(params, \"nBatches\")\n",
    "    cell.names <- colData(sim)$Cell\n",
    "    gene.names <- rowData(sim)$Gene\n",
    "    gene.means <- rowData(sim)$GeneMean\n",
    "\n",
    "    if (nBatches > 1) {\n",
    "        batches <- colData(sim)$Batch\n",
    "        batch.names <- unique(batches)\n",
    "\n",
    "        batch.facs.gene <- rowData(sim)[, paste0(\"BatchFac\", batch.names)]\n",
    "        batch.facs.cell <- as.matrix(batch.facs.gene[,\n",
    "                                                  as.numeric(factor(batches))])\n",
    "    } else {\n",
    "        nCells <- getParam(params, \"nCells\")\n",
    "        nGenes <- getParam(params, \"nGenes\")\n",
    "\n",
    "        batch.facs.cell <- matrix(1, ncol = nCells, nrow = nGenes)\n",
    "    }\n",
    "\n",
    "    batch.means.cell <- batch.facs.cell * gene.means\n",
    "\n",
    "    colnames(batch.means.cell) <- cell.names\n",
    "    rownames(batch.means.cell) <- gene.names\n",
    "    assays(sim)$BatchCellMeans <- batch.means.cell\n",
    "\n",
    "    return(sim)\n",
    "}\n",
    "splatSimBatchCellMeans(sim2,params_pmbc2) %>% head\n"
   ]
  },
  {
   "cell_type": "code",
   "execution_count": 83,
   "metadata": {},
   "outputs": [],
   "source": [
    "sim = sim2\n",
    "params = params_pmbc2\n",
    "    nBatches <- getParam(params, \"nBatches\")\n",
    "    cell.names <- colData(sim)$Cell\n",
    "    gene.names <- rowData(sim)$Gene\n",
    "    gene.means <- rowData(sim)$GeneMean\n",
    "\n",
    "    if (nBatches > 1) {\n",
    "        batches <- colData(sim)$Batch\n",
    "        batch.names <- unique(batches)\n",
    "\n",
    "        batch.facs.gene <- rowData(sim)[, paste0(\"BatchFac\", batch.names)]\n",
    "        batch.facs.cell <- as.matrix(batch.facs.gene[,\n",
    "                                                  as.numeric(factor(batches))])\n",
    "    } else {\n",
    "        nCells <- getParam(params, \"nCells\")\n",
    "        nGenes <- getParam(params, \"nGenes\")\n",
    "\n",
    "        batch.facs.cell <- matrix(1, ncol = nCells, nrow = nGenes)\n",
    "    }"
   ]
  },
  {
   "cell_type": "code",
   "execution_count": 74,
   "metadata": {},
   "outputs": [],
   "source": [
    "getLNormFactors <- function(n.facs, sel.prob, neg.prob, fac.loc, fac.scale) {\n",
    "\n",
    "    is.selected <- as.logical(rbinom(n.facs, 1, sel.prob))\n",
    "    n.selected <- sum(is.selected)\n",
    "    dir.selected <- (-1) ^ rbinom(n.selected, 1, neg.prob)\n",
    "    facs.selected <- rlnorm(n.selected, fac.loc, fac.scale)\n",
    "    # Reverse directions for factors that are less than one\n",
    "    dir.selected[facs.selected < 1] <- -1 * dir.selected[facs.selected < 1]\n",
    "    factors <- rep(1, n.facs)\n",
    "    factors[is.selected] <- facs.selected ^ dir.selected\n",
    "\n",
    "    return(factors)\n",
    "}"
   ]
  },
  {
   "cell_type": "code",
   "execution_count": 81,
   "metadata": {},
   "outputs": [],
   "source": [
    "params_pmbc2 <- setParam(params_pmbc2, \"nGenes\", 20000)"
   ]
  },
  {
   "cell_type": "code",
   "execution_count": 84,
   "metadata": {},
   "outputs": [
    {
     "data": {
      "text/plain": [
       "DataFrame with 6 rows and 4 columns\n",
       "             Gene BaseGeneMean OutlierFactor   GeneMean\n",
       "      <character>    <numeric>     <numeric>  <numeric>\n",
       "Gene1       Gene1   0.02787935             1 0.02787935\n",
       "Gene2       Gene2   0.00820262             1 0.00820262\n",
       "Gene3       Gene3   0.21389892             1 0.21389892\n",
       "Gene4       Gene4   0.06701564             1 0.06701564\n",
       "Gene5       Gene5   0.03261272             1 0.03261272\n",
       "Gene6       Gene6   0.00029004             1 0.00029004"
      ]
     },
     "metadata": {},
     "output_type": "display_data"
    },
    {
     "name": "stdout",
     "output_type": "stream",
     "text": [
      "[1] \"here\"\n"
     ]
    }
   ],
   "source": [
    "library(splatter)\n",
    "rowData(sim) %>% head\n",
    "    nGenes <- getParam(params, \"nGenes\")\n",
    "    nBatches <- getParam(params, \"nBatches\")\n",
    "    batch.facLoc <- getParam(params, \"batch.facLoc\")\n",
    "    batch.facScale <- getParam(params, \"batch.facScale\")\n",
    "    means.gene <- rowData(sim)$GeneMean\n",
    "\n",
    "    for (idx in seq_len(nBatches)) {\n",
    "        batch.facs <- getLNormFactors(nGenes, 1, 0.5, batch.facLoc[idx],\n",
    "                                        batch.facScale[idx])\n",
    "        print(\"here\")\n",
    "        batch.means.gene <- means.gene * batch.facs\n",
    "        rowData(sim)[[paste0(\"BatchFacBatch\", idx)]] <- batch.facs\n",
    "    }\n",
    "        batches <- colData(sim)$Batch\n",
    "        batch.names <- unique(batches)\n",
    "\n",
    "        batch.facs.gene <- rowData(sim)[, paste0(\"BatchFac\", batch.names)]"
   ]
  },
  {
   "cell_type": "code",
   "execution_count": 116,
   "metadata": {},
   "outputs": [
    {
     "name": "stdout",
     "output_type": "stream",
     "text": [
      " [1] \"0.1\"              \"0.1\"              \"means\"            \"10.5375825639365\"\n",
      " [5] \"13.1112503953905\" \"13.9394412879643\" \"11.7135320341984\" \"18.3655617469401\"\n",
      " [9] \"14.473648001787\"  \"22.0124653307376\" \"16.0167627396913\" \"16.4584454024036\"\n",
      "[13] \"18.9624890347568\"\n",
      " [1] \"0.2\"              \"0.1\"              \"means\"            \"14.8224764871894\"\n",
      " [5] \"13.8656477106087\" \"15.5710123518479\" \"12.6138296490662\" \"18.4786929393226\"\n",
      " [9] \"14.3852847068252\" \"17.629599931043\"  \"20.4170162670182\" \"16.3147980868632\"\n",
      "[13] \"28.1673600926767\"\n",
      " [1] \"0.1\"              \"0.2\"              \"means\"            \"14.0541721974998\"\n",
      " [5] \"8.75256907383597\" \"18.4229465479049\" \"14.8310145442256\" \"16.215561610733\" \n",
      " [9] \"16.7218096603013\" \"11.7813337754752\" \"13.4559624367631\" \"23.4496739501061\"\n",
      "[13] \"18.3882308768811\"\n",
      " [1] \"0.2\"              \"0.2\"              \"means\"            \"8.12397137931845\"\n",
      " [5] \"11.5893395184687\" \"14.8014014439618\" \"19.7592198636077\" \"33.0901062692542\"\n",
      " [9] \"21.0738466808135\" \"16.6037350743211\" \"14.73459343061\"   \"32.0373889725096\"\n",
      "[13] \"20.7306390547442\"\n"
     ]
    }
   ],
   "source": [
    "##\n",
    "x = 0.1\n",
    "y = 0.1\n",
    "\n",
    "batch.facs <- getLNormFactors(nGenes, 1, 0.5, x,\n",
    "                                        y)\n",
    "        batch.means.gene <- 11:20 * batch.facs[1:10]\n",
    "print(c(x,y,\"means\", batch.means.gene[1:10]))\n",
    "##\n",
    "x = 0.2\n",
    "y = 0.1\n",
    "\n",
    "batch.facs <- getLNormFactors(nGenes, 1, 0.5, x,\n",
    "                                        y)\n",
    "        batch.means.gene <- 11:20 * batch.facs[1:10]\n",
    "print(c(x,y,\"means\", batch.means.gene[1:10]))\n",
    "##\n",
    "x = 0.1\n",
    "y = 0.2\n",
    "\n",
    "batch.facs <- getLNormFactors(nGenes, 1, 0.5, x,\n",
    "                                        y)\n",
    "        batch.means.gene <- 11:20 * batch.facs[1:10]\n",
    "print(c(x,y,\"means\", batch.means.gene[1:10]))\n",
    "##\n",
    "x = 0.2\n",
    "y = 0.2\n",
    "\n",
    "batch.facs <- getLNormFactors(nGenes, 1, 0.5, x,\n",
    "                                        y)\n",
    "        batch.means.gene <- 11:20 * batch.facs[1:10]\n",
    "print(c(x,y,\"means\", batch.means.gene[1:10]))"
   ]
  },
  {
   "cell_type": "code",
   "execution_count": 110,
   "metadata": {},
   "outputs": [
    {
     "data": {
      "text/html": [
       "<style>\n",
       ".list-inline {list-style: none; margin:0; padding: 0}\n",
       ".list-inline>li {display: inline-block}\n",
       ".list-inline>li:not(:last-child)::after {content: \"\\00b7\"; padding: 0 .5ex}\n",
       "</style>\n",
       "<ol class=list-inline><li>1</li><li>2</li><li>3</li><li>4</li><li>5</li><li>6</li><li>7</li><li>8</li><li>9</li><li>10</li></ol>\n"
      ],
      "text/latex": [
       "\\begin{enumerate*}\n",
       "\\item 1\n",
       "\\item 2\n",
       "\\item 3\n",
       "\\item 4\n",
       "\\item 5\n",
       "\\item 6\n",
       "\\item 7\n",
       "\\item 8\n",
       "\\item 9\n",
       "\\item 10\n",
       "\\end{enumerate*}\n"
      ],
      "text/markdown": [
       "1. 1\n",
       "2. 2\n",
       "3. 3\n",
       "4. 4\n",
       "5. 5\n",
       "6. 6\n",
       "7. 7\n",
       "8. 8\n",
       "9. 9\n",
       "10. 10\n",
       "\n",
       "\n"
      ],
      "text/plain": [
       " [1]  1  2  3  4  5  6  7  8  9 10"
      ]
     },
     "metadata": {},
     "output_type": "display_data"
    }
   ],
   "source": [
    "1:10"
   ]
  },
  {
   "cell_type": "code",
   "execution_count": 96,
   "metadata": {},
   "outputs": [
    {
     "data": {
      "text/plain": [
       "class: SingleCellExperiment \n",
       "dim: 20000 8000 \n",
       "metadata(1): Params\n",
       "assays(6): BatchCellMeans BaseCellMeans ... TrueCounts counts\n",
       "rownames(20000): Gene1 Gene2 ... Gene19999 Gene20000\n",
       "rowData names(4): Gene BaseGeneMean OutlierFactor GeneMean\n",
       "colnames(8000): Cell1 Cell2 ... Cell7999 Cell8000\n",
       "colData names(3): Cell Batch ExpLibSize\n",
       "reducedDimNames(0):\n",
       "altExpNames(0):"
      ]
     },
     "metadata": {},
     "output_type": "display_data"
    },
    {
     "data": {
      "text/plain": [
       "A \u001b[1mParams\u001b[22m object of class \u001b[1mSplatParams\u001b[22m \n",
       "Parameters can be (estimable) or \u001b[34m[not estimable]\u001b[39m, 'Default' or  \u001b[1m\u001b[32m'NOT DEFAULT'\u001b[39m\u001b[22m \n",
       "\u001b[43m\u001b[30mSecondary\u001b[39m\u001b[49m parameters are usually set during simulation\n",
       "\n",
       "\u001b[1mGlobal:\u001b[22m \n",
       "\u001b[1m(GENES)\u001b[22m  \u001b[1m(CELLS)\u001b[22m   \u001b[34m[Seed]\u001b[39m \n",
       "  \u001b[1m\u001b[32m54958\u001b[39m\u001b[22m     \u001b[1m\u001b[32m1000\u001b[39m\u001b[22m   642223 \n",
       "\n",
       "28 additional parameters \n",
       "\n",
       "\u001b[1mBatches:\u001b[22m \n",
       "    \u001b[1m\u001b[34m[BATCHES]\u001b[39m\u001b[22m  \u001b[1m\u001b[34m[BATCH CELLS]\u001b[39m\u001b[22m     \u001b[34m[Location]\u001b[39m        \u001b[34m[Scale]\u001b[39m \n",
       "            \u001b[1m\u001b[32m1\u001b[39m\u001b[22m           \u001b[1m\u001b[32m1000\u001b[39m\u001b[22m            0.1            0.1 \n",
       "\n",
       "\u001b[1mMean:\u001b[22m \n",
       "           \u001b[1m(RATE)\u001b[22m            \u001b[1m(SHAPE)\u001b[22m \n",
       " \u001b[1m\u001b[32m5.58235929125999\u001b[39m\u001b[22m  \u001b[1m\u001b[32m0.474640085808885\u001b[39m\u001b[22m \n",
       "\n",
       "\u001b[1mLibrary size:\u001b[22m \n",
       "       \u001b[1m(LOCATION)\u001b[22m            \u001b[1m(SCALE)\u001b[22m             (Norm) \n",
       " \u001b[1m\u001b[32m8.86907665034351\u001b[39m\u001b[22m  \u001b[1m\u001b[32m0.320610229046677\u001b[39m\u001b[22m              FALSE \n",
       "\n",
       "\u001b[1mExprs outliers:\u001b[22m \n",
       "     \u001b[1m(PROBABILITY)\u001b[22m          \u001b[1m(LOCATION)\u001b[22m             \u001b[1m(SCALE)\u001b[22m \n",
       "\u001b[1m\u001b[32m0.0136782022934129\u001b[39m\u001b[22m    \u001b[1m\u001b[32m5.64205709073572\u001b[39m\u001b[22m    \u001b[1m\u001b[32m1.01132767774803\u001b[39m\u001b[22m \n",
       "\n",
       "\u001b[1mGroups:\u001b[22m \n",
       "     \u001b[34m[Groups]\u001b[39m  \u001b[34m[Group Probs]\u001b[39m \n",
       "            1              1 \n",
       "\n",
       "\u001b[1mDiff expr:\u001b[22m \n",
       "\u001b[34m[Probability]\u001b[39m    \u001b[34m[Down Prob]\u001b[39m     \u001b[34m[Location]\u001b[39m        \u001b[34m[Scale]\u001b[39m \n",
       "          0.1            0.5            0.1            0.4 \n",
       "\n",
       "\u001b[1mBCV:\u001b[22m \n",
       "    \u001b[1m(COMMON DISP)\u001b[22m              \u001b[1m(DOF)\u001b[22m \n",
       "\u001b[1m\u001b[32m0.255651492576496\u001b[39m\u001b[22m   \u001b[1m\u001b[32m56.7683319498252\u001b[39m\u001b[22m \n",
       "\n",
       "\u001b[1mDropout:\u001b[22m \n",
       "            \u001b[34m[Type]\u001b[39m          \u001b[1m(MIDPOINT)\u001b[22m             \u001b[1m(SHAPE)\u001b[22m \n",
       "              none  \u001b[1m\u001b[32m-0.323891904430421\u001b[39m\u001b[22m   \u001b[1m\u001b[32m-1.09213201252514\u001b[39m\u001b[22m \n",
       "\n",
       "\u001b[1mPaths:\u001b[22m \n",
       "        \u001b[34m[From]\u001b[39m         \u001b[34m[Steps]\u001b[39m          \u001b[34m[Skew]\u001b[39m    \u001b[34m[Non-linear]\u001b[39m  \u001b[34m[Sigma Factor]\u001b[39m \n",
       "             0             100             0.5             0.1             0.8 \n"
      ]
     },
     "metadata": {},
     "output_type": "display_data"
    }
   ],
   "source": [
    "sim2\n",
    "params_pmbc"
   ]
  },
  {
   "cell_type": "markdown",
   "metadata": {},
   "source": [
    "#### TEST Batches"
   ]
  },
  {
   "cell_type": "code",
   "execution_count": 170,
   "metadata": {},
   "outputs": [
    {
     "data": {
      "text/plain": [
       "A \u001b[1mParams\u001b[22m object of class \u001b[1mSplatParams\u001b[22m \n",
       "Parameters can be (estimable) or \u001b[34m[not estimable]\u001b[39m, 'Default' or  \u001b[1m\u001b[32m'NOT DEFAULT'\u001b[39m\u001b[22m \n",
       "\u001b[43m\u001b[30mSecondary\u001b[39m\u001b[49m parameters are usually set during simulation\n",
       "\n",
       "\u001b[1mGlobal:\u001b[22m \n",
       "(Genes)  \u001b[1m(CELLS)\u001b[22m   \u001b[34m[Seed]\u001b[39m \n",
       "  10000      \u001b[1m\u001b[32m150\u001b[39m\u001b[22m   642223 \n",
       "\n",
       "28 additional parameters \n",
       "\n",
       "\u001b[1mBatches:\u001b[22m \n",
       "    \u001b[1m\u001b[34m[BATCHES]\u001b[39m\u001b[22m  \u001b[1m\u001b[34m[BATCH CELLS]\u001b[39m\u001b[22m     \u001b[34m[Location]\u001b[39m        \u001b[34m[Scale]\u001b[39m \n",
       "            \u001b[1m\u001b[32m3\u001b[39m\u001b[22m     \u001b[1m\u001b[32m50, 50, 50\u001b[39m\u001b[22m            0.1            0.1 \n",
       "\n",
       "\u001b[1mMean:\u001b[22m \n",
       " (Rate)  (Shape) \n",
       "    0.3      0.6 \n",
       "\n",
       "\u001b[1mLibrary size:\u001b[22m \n",
       "(Location)     (Scale)      (Norm) \n",
       "        11         0.2       FALSE \n",
       "\n",
       "\u001b[1mExprs outliers:\u001b[22m \n",
       "(Probability)     (Location)        (Scale) \n",
       "         0.05              4            0.5 \n",
       "\n",
       "\u001b[1mGroups:\u001b[22m \n",
       "     \u001b[34m[Groups]\u001b[39m  \u001b[34m[Group Probs]\u001b[39m \n",
       "            1              1 \n",
       "\n",
       "\u001b[1mDiff expr:\u001b[22m \n",
       "\u001b[34m[Probability]\u001b[39m    \u001b[34m[Down Prob]\u001b[39m     \u001b[34m[Location]\u001b[39m        \u001b[34m[Scale]\u001b[39m \n",
       "          0.1            0.5            0.1            0.4 \n",
       "\n",
       "\u001b[1mBCV:\u001b[22m \n",
       "(Common Disp)          (DoF) \n",
       "          0.1             60 \n",
       "\n",
       "\u001b[1mDropout:\u001b[22m \n",
       "    \u001b[34m[Type]\u001b[39m  (Midpoint)     (Shape) \n",
       "      none           0          -1 \n",
       "\n",
       "\u001b[1mPaths:\u001b[22m \n",
       "        \u001b[34m[From]\u001b[39m         \u001b[34m[Steps]\u001b[39m          \u001b[34m[Skew]\u001b[39m    \u001b[34m[Non-linear]\u001b[39m  \u001b[34m[Sigma Factor]\u001b[39m \n",
       "             0             100             0.5             0.1             0.8 \n"
      ]
     },
     "metadata": {},
     "output_type": "display_data"
    },
    {
     "name": "stdout",
     "output_type": "stream",
     "text": [
      "[1] \"here\"\n"
     ]
    },
    {
     "name": "stderr",
     "output_type": "stream",
     "text": [
      "Warning message in rlnorm(n.selected, fac.loc, fac.scale):\n",
      "“NAs produced”\n"
     ]
    },
    {
     "ename": "ERROR",
     "evalue": "Error in dir.selected[facs.selected < 1] <- -1 * dir.selected[facs.selected < : NAs are not allowed in subscripted assignments\n",
     "output_type": "error",
     "traceback": [
      "Error in dir.selected[facs.selected < 1] <- -1 * dir.selected[facs.selected < : NAs are not allowed in subscripted assignments\nTraceback:\n",
      "1. getLNormFactors(nGenes, 1, 0.5, batch.facLoc[idx], batch.facScale[idx])"
     ]
    }
   ],
   "source": [
    "params <- newSplatParams(batchCells = c(50, 50,50))\n",
    "params\n",
    "sim.batches <- splatSimulate(params, batchCells = c(50, 50,50), verbose = FALSE)\n",
    "\n",
    "    nGenes <- getParam(params, \"nGenes\")\n",
    "    nBatches <- getParam(params, \"nBatches\")\n",
    "    batch.facLoc <- getParam(params, \"batch.facLoc\")\n",
    "    batch.facScale <- getParam(params, \"batch.facScale\")\n",
    "    means.gene <- rowData(sim)$GeneMean\n",
    "\n",
    "    for (idx in seq_len(nBatches)) {\n",
    "        batch.facs <- getLNormFactors(nGenes, 1, 0.5, batch.facLoc[idx],\n",
    "                                        batch.facScale[idx])\n",
    "        print(\"here\")\n",
    "        batch.means.gene <- means.gene * batch.facs\n",
    "        rowData(sim)[[paste0(\"BatchFacBatch\", idx)]] <- batch.facs\n",
    "    }\n",
    "        batches <- colData(sim)$Batch\n",
    "        batch.names <- unique(batches)\n",
    "\n",
    "        batch.facs.gene <- rowData(sim)[, paste0(\"BatchFac\", batch.names)]"
   ]
  },
  {
   "cell_type": "code",
   "execution_count": 177,
   "metadata": {},
   "outputs": [
    {
     "data": {
      "text/html": [
       "<style>\n",
       ".list-inline {list-style: none; margin:0; padding: 0}\n",
       ".list-inline>li {display: inline-block}\n",
       ".list-inline>li:not(:last-child)::after {content: \"\\00b7\"; padding: 0 .5ex}\n",
       "</style>\n",
       "<ol class=list-inline><li>1</li><li>1</li><li>1</li><li>1</li><li>1</li><li>1</li><li>1</li><li>1</li><li>1</li><li>1</li><li>2</li><li>2</li><li>2</li><li>2</li><li>2</li><li>2</li><li>2</li><li>2</li><li>2</li><li>2</li><li>3</li><li>3</li><li>3</li><li>3</li><li>3</li><li>3</li><li>3</li><li>3</li><li>3</li><li>3</li></ol>\n"
      ],
      "text/latex": [
       "\\begin{enumerate*}\n",
       "\\item 1\n",
       "\\item 1\n",
       "\\item 1\n",
       "\\item 1\n",
       "\\item 1\n",
       "\\item 1\n",
       "\\item 1\n",
       "\\item 1\n",
       "\\item 1\n",
       "\\item 1\n",
       "\\item 2\n",
       "\\item 2\n",
       "\\item 2\n",
       "\\item 2\n",
       "\\item 2\n",
       "\\item 2\n",
       "\\item 2\n",
       "\\item 2\n",
       "\\item 2\n",
       "\\item 2\n",
       "\\item 3\n",
       "\\item 3\n",
       "\\item 3\n",
       "\\item 3\n",
       "\\item 3\n",
       "\\item 3\n",
       "\\item 3\n",
       "\\item 3\n",
       "\\item 3\n",
       "\\item 3\n",
       "\\end{enumerate*}\n"
      ],
      "text/markdown": [
       "1. 1\n",
       "2. 1\n",
       "3. 1\n",
       "4. 1\n",
       "5. 1\n",
       "6. 1\n",
       "7. 1\n",
       "8. 1\n",
       "9. 1\n",
       "10. 1\n",
       "11. 2\n",
       "12. 2\n",
       "13. 2\n",
       "14. 2\n",
       "15. 2\n",
       "16. 2\n",
       "17. 2\n",
       "18. 2\n",
       "19. 2\n",
       "20. 2\n",
       "21. 3\n",
       "22. 3\n",
       "23. 3\n",
       "24. 3\n",
       "25. 3\n",
       "26. 3\n",
       "27. 3\n",
       "28. 3\n",
       "29. 3\n",
       "30. 3\n",
       "\n",
       "\n"
      ],
      "text/plain": [
       " [1] 1 1 1 1 1 1 1 1 1 1 2 2 2 2 2 2 2 2 2 2 3 3 3 3 3 3 3 3 3 3"
      ]
     },
     "metadata": {},
     "output_type": "display_data"
    },
    {
     "data": {
      "text/html": [
       "<style>\n",
       ".list-inline {list-style: none; margin:0; padding: 0}\n",
       ".list-inline>li {display: inline-block}\n",
       ".list-inline>li:not(:last-child)::after {content: \"\\00b7\"; padding: 0 .5ex}\n",
       "</style>\n",
       "<ol class=list-inline><li>'Batch1'</li><li>'Batch1'</li><li>'Batch1'</li><li>'Batch1'</li><li>'Batch1'</li><li>'Batch1'</li><li>'Batch1'</li><li>'Batch1'</li><li>'Batch1'</li><li>'Batch1'</li><li>'Batch2'</li><li>'Batch2'</li><li>'Batch2'</li><li>'Batch2'</li><li>'Batch2'</li><li>'Batch2'</li><li>'Batch2'</li><li>'Batch2'</li><li>'Batch2'</li><li>'Batch2'</li><li>'Batch3'</li><li>'Batch3'</li><li>'Batch3'</li><li>'Batch3'</li><li>'Batch3'</li><li>'Batch3'</li><li>'Batch3'</li><li>'Batch3'</li><li>'Batch3'</li><li>'Batch3'</li></ol>\n"
      ],
      "text/latex": [
       "\\begin{enumerate*}\n",
       "\\item 'Batch1'\n",
       "\\item 'Batch1'\n",
       "\\item 'Batch1'\n",
       "\\item 'Batch1'\n",
       "\\item 'Batch1'\n",
       "\\item 'Batch1'\n",
       "\\item 'Batch1'\n",
       "\\item 'Batch1'\n",
       "\\item 'Batch1'\n",
       "\\item 'Batch1'\n",
       "\\item 'Batch2'\n",
       "\\item 'Batch2'\n",
       "\\item 'Batch2'\n",
       "\\item 'Batch2'\n",
       "\\item 'Batch2'\n",
       "\\item 'Batch2'\n",
       "\\item 'Batch2'\n",
       "\\item 'Batch2'\n",
       "\\item 'Batch2'\n",
       "\\item 'Batch2'\n",
       "\\item 'Batch3'\n",
       "\\item 'Batch3'\n",
       "\\item 'Batch3'\n",
       "\\item 'Batch3'\n",
       "\\item 'Batch3'\n",
       "\\item 'Batch3'\n",
       "\\item 'Batch3'\n",
       "\\item 'Batch3'\n",
       "\\item 'Batch3'\n",
       "\\item 'Batch3'\n",
       "\\end{enumerate*}\n"
      ],
      "text/markdown": [
       "1. 'Batch1'\n",
       "2. 'Batch1'\n",
       "3. 'Batch1'\n",
       "4. 'Batch1'\n",
       "5. 'Batch1'\n",
       "6. 'Batch1'\n",
       "7. 'Batch1'\n",
       "8. 'Batch1'\n",
       "9. 'Batch1'\n",
       "10. 'Batch1'\n",
       "11. 'Batch2'\n",
       "12. 'Batch2'\n",
       "13. 'Batch2'\n",
       "14. 'Batch2'\n",
       "15. 'Batch2'\n",
       "16. 'Batch2'\n",
       "17. 'Batch2'\n",
       "18. 'Batch2'\n",
       "19. 'Batch2'\n",
       "20. 'Batch2'\n",
       "21. 'Batch3'\n",
       "22. 'Batch3'\n",
       "23. 'Batch3'\n",
       "24. 'Batch3'\n",
       "25. 'Batch3'\n",
       "26. 'Batch3'\n",
       "27. 'Batch3'\n",
       "28. 'Batch3'\n",
       "29. 'Batch3'\n",
       "30. 'Batch3'\n",
       "\n",
       "\n"
      ],
      "text/plain": [
       " [1] \"Batch1\" \"Batch1\" \"Batch1\" \"Batch1\" \"Batch1\" \"Batch1\" \"Batch1\" \"Batch1\"\n",
       " [9] \"Batch1\" \"Batch1\" \"Batch2\" \"Batch2\" \"Batch2\" \"Batch2\" \"Batch2\" \"Batch2\"\n",
       "[17] \"Batch2\" \"Batch2\" \"Batch2\" \"Batch2\" \"Batch3\" \"Batch3\" \"Batch3\" \"Batch3\"\n",
       "[25] \"Batch3\" \"Batch3\" \"Batch3\" \"Batch3\" \"Batch3\" \"Batch3\""
      ]
     },
     "metadata": {},
     "output_type": "display_data"
    }
   ],
   "source": [
    "    cell.names <- paste0(\"Cell\", seq_len(30))\n",
    "    gene.names <- paste0(\"Gene\", seq_len(40))\n",
    "    batch.names <- paste0(\"Batch\", seq_len(3))\n",
    "\n",
    "batch.cells <- c(10,10,10)\n",
    "    batches <- lapply(seq_len(nBatches), function(i, b) {rep(i, b[i])},\n",
    "                      b = batch.cells)\n",
    "    batches <- unlist(batches)\n",
    "    #colData(sim)$Batch <- batch.names[batches]\n",
    "batches\n",
    "batch.names[batches]"
   ]
  },
  {
   "cell_type": "code",
   "execution_count": null,
   "metadata": {},
   "outputs": [],
   "source": []
  },
  {
   "cell_type": "code",
   "execution_count": 123,
   "metadata": {},
   "outputs": [
    {
     "data": {
      "text/plain": [
       "DataFrame with 3 rows and 3 columns\n",
       "               Cell       Batch ExpLibSize\n",
       "        <character> <character>  <numeric>\n",
       "Cell100     Cell100      Batch2    68999.1\n",
       "Cell101     Cell101      Batch3    56560.7\n",
       "Cell102     Cell102      Batch3   109065.1"
      ]
     },
     "metadata": {},
     "output_type": "display_data"
    }
   ],
   "source": [
    "(sim.batches@colData)[100:102,]"
   ]
  },
  {
   "cell_type": "code",
   "execution_count": null,
   "metadata": {},
   "outputs": [],
   "source": [
    "splatSimulate(params = params_pmbc2, method = \"groups\", batchCells = c(150000,150000,150000,150000,150000,\n",
    "                                                                      150000,150000,150000,150000,150000),\n",
    "                 group.prob = c(0.2,0.2,0.2,0.2,0.2), verbose = FALSE, nGenes = 8000)"
   ]
  },
  {
   "cell_type": "code",
   "execution_count": 125,
   "metadata": {},
   "outputs": [],
   "source": [
    "sim_test <- splatSimulate(params = params_pmbc2, method = \"groups\", batchCells = c(150,150,150,150,150,\n",
    "                                                                      1500,150,150,150,150),\n",
    "                 group.prob = c(0.2,0.2,0.2,0.2,0.2), verbose = FALSE, nGenes = 8000)"
   ]
  },
  {
   "cell_type": "code",
   "execution_count": 126,
   "metadata": {},
   "outputs": [
    {
     "name": "stderr",
     "output_type": "stream",
     "text": [
      "Warning message:\n",
      "“The shape palette can deal with a maximum of 6 discrete values because\n",
      "more than 6 becomes difficult to discriminate; you have 10. Consider\n",
      "specifying shapes manually if you must have them.”\n",
      "Warning message:\n",
      "“Removed 1950 rows containing missing values (geom_point).”\n"
     ]
    },
    {
     "data": {
      "image/png": "[encoded data removed]",
      "text/plain": [
       "plot without title"
      ]
     },
     "metadata": {
      "image/png": {
       "height": 420,
       "width": 420
      },
      "text/plain": {
       "height": 420,
       "width": 420
      }
     },
     "output_type": "display_data"
    }
   ],
   "source": [
    "sim_test <- logNormCounts(sim_test)\n",
    "sim_test <- runPCA(sim_test)\n",
    "plotPCA(sim_test, shape_by = \"Batch\", colour_by = \"Group\")"
   ]
  },
  {
   "cell_type": "code",
   "execution_count": 169,
   "metadata": {},
   "outputs": [],
   "source": [
    "splatSimBatchEffects <- function(sim, params) {\n",
    "\n",
    "    nGenes <- getParam(params, \"nGenes\")\n",
    "    nBatches <- getParam(params, \"nBatches\")\n",
    "    batch.facLoc <- getParam(params, \"batch.facLoc\")\n",
    "    batch.facScale <- getParam(params, \"batch.facScale\")\n",
    "    means.gene <- rowData(sim)$GeneMean\n",
    "\n",
    "    for (idx in seq_len(nBatches)) {\n",
    "        batch.facs <- getLNormFactors(nGenes, 1, 0.5, batch.facLoc[idx],\n",
    "                                        batch.facScale[idx])\n",
    "        batch.means.gene <- means.gene * batch.facs\n",
    "        rowData(sim)[[paste0(\"BatchFacBatch\", idx)]] <- batch.facs\n",
    "    }\n",
    "\n",
    "    return(sim)\n",
    "}"
   ]
  },
  {
   "cell_type": "code",
   "execution_count": 168,
   "metadata": {},
   "outputs": [
    {
     "data": {
      "text/html": [
       "0.1"
      ],
      "text/latex": [
       "0.1"
      ],
      "text/markdown": [
       "0.1"
      ],
      "text/plain": [
       "[1] 0.1"
      ]
     },
     "metadata": {},
     "output_type": "display_data"
    },
    {
     "name": "stdout",
     "output_type": "stream",
     "text": [
      "[1] 1\n",
      "[1] 2\n"
     ]
    },
    {
     "name": "stderr",
     "output_type": "stream",
     "text": [
      "Warning message in rlnorm(n.selected, fac.loc, fac.scale):\n",
      "“NAs produced”\n"
     ]
    },
    {
     "ename": "ERROR",
     "evalue": "Error in dir.selected[facs.selected < 1] <- -1 * dir.selected[facs.selected < : NAs are not allowed in subscripted assignments\n",
     "output_type": "error",
     "traceback": [
      "Error in dir.selected[facs.selected < 1] <- -1 * dir.selected[facs.selected < : NAs are not allowed in subscripted assignments\nTraceback:\n",
      "1. getLNormFactors(nGenes, 1, 0.5, batch.facLoc[idx], batch.facScale[idx])"
     ]
    }
   ],
   "source": [
    "batch.facLoc <- getParam(params, \"batch.facLoc\")\n",
    "batch.facScale <- getParam(params, \"batch.facScale\")\n",
    "batch.facLoc\n",
    "nBatches <- getParam(params, \"nBatches\")\n",
    "nGenes <- getParam(params, \"nGenes\")\n",
    "\n",
    "for (idx in seq_len(nBatches)) {\n",
    "    print(idx)\n",
    "        batch.facs <- getLNormFactors(nGenes, 1, 0.5, batch.facLoc[idx],\n",
    "                                        batch.facScale[idx])}"
   ]
  },
  {
   "cell_type": "code",
   "execution_count": 190,
   "metadata": {},
   "outputs": [
    {
     "ename": "ERROR",
     "evalue": "Error in expandParams(params): could not find function \"expandParams\"\n",
     "output_type": "error",
     "traceback": [
      "Error in expandParams(params): could not find function \"expandParams\"\nTraceback:\n"
     ]
    }
   ],
   "source": [
    "    params <- expandParams(params)"
   ]
  },
  {
   "cell_type": "code",
   "execution_count": 191,
   "metadata": {},
   "outputs": [
    {
     "data": {
      "text/html": [
       "'/ifs/devel/annajb/conda-install/envs/minnow_env/lib/R/library'"
      ],
      "text/latex": [
       "'/ifs/devel/annajb/conda-install/envs/minnow\\_env/lib/R/library'"
      ],
      "text/markdown": [
       "'/ifs/devel/annajb/conda-install/envs/minnow_env/lib/R/library'"
      ],
      "text/plain": [
       "[1] \"/ifs/devel/annajb/conda-install/envs/minnow_env/lib/R/library\""
      ]
     },
     "metadata": {},
     "output_type": "display_data"
    }
   ],
   "source": [
    ".libPaths()"
   ]
  },
  {
   "cell_type": "code",
   "execution_count": 198,
   "metadata": {},
   "outputs": [
    {
     "ename": "ERROR",
     "evalue": "Error in newKersplatParams(): The Kersplat simulation requires the 'igraph' package.\n",
     "output_type": "error",
     "traceback": [
      "Error in newKersplatParams(): The Kersplat simulation requires the 'igraph' package.\nTraceback:\n",
      "1. newKersplatParams()",
      "2. stop(\"The Kersplat simulation requires the 'igraph' package.\")"
     ]
    }
   ],
   "source": [
    "evan_smells <- function()\n",
    "    print(\"evan smells of shit!!!\")\n",
    "    params = newKersplatParams()\n",
    "    params %>% head\n",
    "\n",
    "environment(evan_smells) <- asNamespace('splatter')\n",
    "assignInNamespace(\"kersplatEstimate\", evan_smells, ns = \"splatter\")\n",
    "\n",
    "splatSimulate_multi_batches"
   ]
  },
  {
   "cell_type": "code",
   "execution_count": 202,
   "metadata": {},
   "outputs": [],
   "source": [
    "environment(splatSimulate_multi_batches) <- asNamespace('splatter')\n",
    "assignInNamespace(\"splatSimulate\", splatSimulate_multi_batches, ns = \"splatter\")"
   ]
  },
  {
   "cell_type": "code",
   "execution_count": 207,
   "metadata": {},
   "outputs": [
    {
     "ename": "ERROR",
     "evalue": "Error in bringItemsForward(update, c(\"batchCells\", \"group.prob\")): could not find function \"bringItemsForward\"\n",
     "output_type": "error",
     "traceback": [
      "Error in bringItemsForward(update, c(\"batchCells\", \"group.prob\")): could not find function \"bringItemsForward\"\nTraceback:\n",
      "1. splatSimulate_multi_batches(params = newSplatParams(), method = c(\"single\", \n .     \"groups\", \"paths\"), verbose = TRUE, nChannels = 70, nPatients = 14, \n .     batchCells = c(150, 150, 150, 150, 150, 1500, 150, 150, 150, \n .         150), group.prob = c(0.2, 0.2, 0.2, 0.2, 0.2))",
      "2. checkmate::assertClass(params, \"SplatParams\")",
      "3. checkClass(x, classes, ordered, null.ok)",
      "4. newSplatParams()",
      "5. setParams(params, ...)",
      "6. setParams(params, ...)"
     ]
    }
   ],
   "source": [
    "splatSimulate_multi_batches(params = newSplatParams(),\n",
    "                          method = c(\"single\", \"groups\", \"paths\"),\n",
    "                          verbose = TRUE, nChannels = 70,  nPatients = 14,  batchCells = c(150,150,150,150,150,\n",
    "                                                                      1500,150,150,150,150),\n",
    "                 group.prob = c(0.2,0.2,0.2,0.2,0.2))"
   ]
  },
  {
   "cell_type": "code",
   "execution_count": 197,
   "metadata": {},
   "outputs": [
    {
     "name": "stdout",
     "output_type": "stream",
     "text": [
      "[1] \"evan smells of shit!!!\"\n"
     ]
    }
   ],
   "source": [
    "splatter::kersplatEstimate()"
   ]
  },
  {
   "cell_type": "code",
   "execution_count": 188,
   "metadata": {},
   "outputs": [
    {
     "ename": "ERROR",
     "evalue": "Error in setMethod(\"expandParams\", \"SplatParams\", function(object) {: no existing definition for function ‘expandParams’\n",
     "output_type": "error",
     "traceback": [
      "Error in setMethod(\"expandParams\", \"SplatParams\", function(object) {: no existing definition for function ‘expandParams’\nTraceback:\n",
      "1. source(\"splatSimulate_anna.R\")",
      "2. withVisible(eval(ei, envir))",
      "3. eval(ei, envir)",
      "4. eval(ei, envir)",
      "5. source(\"splatter_methods.R\")",
      "6. withVisible(eval(ei, envir))",
      "7. eval(ei, envir)",
      "8. eval(ei, envir)",
      "9. setMethod(\"expandParams\", \"SplatParams\", function(object) {\n .     n <- getParam(object, \"nBatches\")\n .     vectors <- c(\"batch.facLoc\", \"batch.facScale\")\n .     object <- callNextMethod(object, vectors, n)\n .     n <- getParam(object, \"nGroups\")\n .     vectors <- c(\"de.prob\", \"de.downProb\", \"de.facLoc\", \"de.facScale\", \n .         \"path.from\", \"path.nSteps\", \"path.skew\")\n .     object <- callNextMethod(object, vectors, n)\n .     return(object)\n . })",
      "10. stop(gettextf(\"no existing definition for function %s\", sQuote(f)), \n  .     domain = NA)"
     ]
    }
   ],
   "source": [
    "\n",
    "\n",
    "source(\"splatSimulate_anna.R\")"
   ]
  },
  {
   "cell_type": "code",
   "execution_count": 180,
   "metadata": {},
   "outputs": [
    {
     "ename": "ERROR",
     "evalue": "Error in expandParams(params): could not find function \"expandParams\"\n",
     "output_type": "error",
     "traceback": [
      "Error in expandParams(params): could not find function \"expandParams\"\nTraceback:\n",
      "1. splatSimulate_multi_batches(params = params_pmbc2, method = \"groups\", \n .     batchCells = c(140, 140, 140, 140, 140, 140, 140, 140, 140, \n .         140), group.prob = c(0.2, 0.2, 0.2, 0.2, 0.2), verbose = FALSE, \n .     nGenes = 2000, nChannels = 70, nPatients = 14)"
     ]
    }
   ],
   "source": [
    "sim_test_anna <- splatSimulate_multi_batches(params = params_pmbc2, method = \"groups\", batchCells = c(140,140,140,140,140,\n",
    "                                                                      140,140,140,140,140),\n",
    "                 group.prob = c(0.2,0.2,0.2,0.2,0.2), verbose = FALSE, nGenes = 2000, nChannels = 70, nPatients = 14)"
   ]
  }
 ],
 "metadata": {
  "kernelspec": {
   "display_name": "R",
   "language": "R",
   "name": "ir"
  },
  "language_info": {
   "codemirror_mode": "r",
   "file_extension": ".r",
   "mimetype": "text/x-r-source",
   "name": "R",
   "pygments_lexer": "r",
   "version": "4.0.0"
  }
 },
 "nbformat": 4,
 "nbformat_minor": 4
}
